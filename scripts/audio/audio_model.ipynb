{
 "cells": [
  {
   "cell_type": "markdown",
   "metadata": {},
   "source": [
    "Étape 1 : Charger les fichiers audio (.wav)"
   ]
  },
  {
   "cell_type": "code",
   "execution_count": null,
   "metadata": {},
   "outputs": [
    {
     "name": "stderr",
     "output_type": "stream",
     "text": [
      "c:\\Users\\HP\\AppData\\Local\\Programs\\Python\\Python39\\lib\\site-packages\\keras\\src\\layers\\core\\input_layer.py:27: UserWarning: Argument `input_shape` is deprecated. Use `shape` instead.\n",
      "  warnings.warn(\n"
     ]
    },
    {
     "name": "stdout",
     "output_type": "stream",
     "text": [
      "Epoch 1/15\n",
      "\u001b[1m36/36\u001b[0m \u001b[32m━━━━━━━━━━━━━━━━━━━━\u001b[0m\u001b[37m\u001b[0m \u001b[1m8s\u001b[0m 154ms/step - accuracy: 0.1281 - loss: 2.2766 - val_accuracy: 0.2569 - val_loss: 1.8587\n",
      "Epoch 2/15\n",
      "\u001b[1m36/36\u001b[0m \u001b[32m━━━━━━━━━━━━━━━━━━━━\u001b[0m\u001b[37m\u001b[0m \u001b[1m10s\u001b[0m 144ms/step - accuracy: 0.2620 - loss: 1.8811 - val_accuracy: 0.4688 - val_loss: 1.6461\n",
      "Epoch 3/15\n",
      "\u001b[1m36/36\u001b[0m \u001b[32m━━━━━━━━━━━━━━━━━━━━\u001b[0m\u001b[37m\u001b[0m \u001b[1m5s\u001b[0m 133ms/step - accuracy: 0.4307 - loss: 1.5920 - val_accuracy: 0.5069 - val_loss: 1.4717\n",
      "Epoch 4/15\n",
      "\u001b[1m36/36\u001b[0m \u001b[32m━━━━━━━━━━━━━━━━━━━━\u001b[0m\u001b[37m\u001b[0m \u001b[1m5s\u001b[0m 128ms/step - accuracy: 0.5239 - loss: 1.3193 - val_accuracy: 0.5382 - val_loss: 1.3444\n",
      "Epoch 5/15\n",
      "\u001b[1m36/36\u001b[0m \u001b[32m━━━━━━━━━━━━━━━━━━━━\u001b[0m\u001b[37m\u001b[0m \u001b[1m5s\u001b[0m 137ms/step - accuracy: 0.6137 - loss: 1.0905 - val_accuracy: 0.5451 - val_loss: 1.2098\n",
      "Epoch 6/15\n",
      "\u001b[1m36/36\u001b[0m \u001b[32m━━━━━━━━━━━━━━━━━━━━\u001b[0m\u001b[37m\u001b[0m \u001b[1m5s\u001b[0m 135ms/step - accuracy: 0.6540 - loss: 0.9364 - val_accuracy: 0.5556 - val_loss: 1.2427\n",
      "Epoch 7/15\n",
      "\u001b[1m36/36\u001b[0m \u001b[32m━━━━━━━━━━━━━━━━━━━━\u001b[0m\u001b[37m\u001b[0m \u001b[1m5s\u001b[0m 143ms/step - accuracy: 0.7307 - loss: 0.7861 - val_accuracy: 0.6111 - val_loss: 1.1857\n",
      "Epoch 8/15\n",
      "\u001b[1m36/36\u001b[0m \u001b[32m━━━━━━━━━━━━━━━━━━━━\u001b[0m\u001b[37m\u001b[0m \u001b[1m5s\u001b[0m 145ms/step - accuracy: 0.7743 - loss: 0.6731 - val_accuracy: 0.6076 - val_loss: 1.1670\n",
      "Epoch 9/15\n",
      "\u001b[1m36/36\u001b[0m \u001b[32m━━━━━━━━━━━━━━━━━━━━\u001b[0m\u001b[37m\u001b[0m \u001b[1m5s\u001b[0m 137ms/step - accuracy: 0.8380 - loss: 0.4993 - val_accuracy: 0.5938 - val_loss: 1.1981\n",
      "Epoch 10/15\n",
      "\u001b[1m36/36\u001b[0m \u001b[32m━━━━━━━━━━━━━━━━━━━━\u001b[0m\u001b[37m\u001b[0m \u001b[1m6s\u001b[0m 156ms/step - accuracy: 0.8307 - loss: 0.4638 - val_accuracy: 0.6319 - val_loss: 1.1673\n",
      "Epoch 11/15\n",
      "\u001b[1m36/36\u001b[0m \u001b[32m━━━━━━━━━━━━━━━━━━━━\u001b[0m\u001b[37m\u001b[0m \u001b[1m5s\u001b[0m 131ms/step - accuracy: 0.8484 - loss: 0.3943 - val_accuracy: 0.6528 - val_loss: 1.1984\n",
      "Epoch 12/15\n",
      "\u001b[1m36/36\u001b[0m \u001b[32m━━━━━━━━━━━━━━━━━━━━\u001b[0m\u001b[37m\u001b[0m \u001b[1m5s\u001b[0m 138ms/step - accuracy: 0.8701 - loss: 0.3308 - val_accuracy: 0.6319 - val_loss: 1.2176\n",
      "Epoch 13/15\n",
      "\u001b[1m36/36\u001b[0m \u001b[32m━━━━━━━━━━━━━━━━━━━━\u001b[0m\u001b[37m\u001b[0m \u001b[1m5s\u001b[0m 128ms/step - accuracy: 0.9105 - loss: 0.2528 - val_accuracy: 0.6389 - val_loss: 1.2604\n",
      "Epoch 14/15\n",
      "\u001b[1m36/36\u001b[0m \u001b[32m━━━━━━━━━━━━━━━━━━━━\u001b[0m\u001b[37m\u001b[0m \u001b[1m5s\u001b[0m 123ms/step - accuracy: 0.9071 - loss: 0.2837 - val_accuracy: 0.6528 - val_loss: 1.3157\n",
      "Epoch 15/15\n",
      "\u001b[1m36/36\u001b[0m \u001b[32m━━━━━━━━━━━━━━━━━━━━\u001b[0m\u001b[37m\u001b[0m \u001b[1m5s\u001b[0m 127ms/step - accuracy: 0.9014 - loss: 0.2576 - val_accuracy: 0.6493 - val_loss: 1.1654\n"
     ]
    },
    {
     "name": "stderr",
     "output_type": "stream",
     "text": [
      "WARNING:absl:You are saving your model as an HDF5 file via `model.save()` or `keras.saving.save_model(model)`. This file format is considered legacy. We recommend using instead the native Keras format, e.g. `model.save('my_model.keras')` or `keras.saving.save_model(model, 'my_model.keras')`. \n"
     ]
    },
    {
     "name": "stdout",
     "output_type": "stream",
     "text": [
      "\u001b[1m9/9\u001b[0m \u001b[32m━━━━━━━━━━━━━━━━━━━━\u001b[0m\u001b[37m\u001b[0m \u001b[1m0s\u001b[0m 38ms/step - accuracy: 0.6823 - loss: 1.0740\n",
      "✅ Précision sur les données de test : 0.6493\n"
     ]
    }
   ],
   "source": [
    "import os\n",
    "import librosa\n",
    "import numpy as np\n",
    "import tensorflow as tf\n",
    "from tensorflow.keras import layers, models\n",
    "from sklearn.preprocessing import StandardScaler\n",
    "from sklearn.model_selection import train_test_split\n",
    "from sklearn.utils import class_weight\n",
    "\n",
    "# 📁 Chemin vers le dossier RAVDESS (à adapter selon ton environnement)\n",
    "dataset_path = '../../objects/datasets/ravdess'\n",
    "\n",
    "# 🧠 Dictionnaire pour mapper le code des émotions\n",
    "emotion_map = {\n",
    "    '01': 'neutral',\n",
    "    '02': 'calm',\n",
    "    '03': 'happy',\n",
    "    '04': 'sad',\n",
    "    '05': 'angry',\n",
    "    '06': 'fearful',\n",
    "    '07': 'disgust',\n",
    "    '08': 'surprised'\n",
    "}\n",
    "\n",
    "# 🗃️ Listes pour stocker les features et labels\n",
    "features = []\n",
    "labels = []\n",
    "\n",
    "# 🔁 Parcourir chaque acteur\n",
    "for actor_folder in os.listdir(dataset_path):\n",
    "    actor_path = os.path.join(dataset_path, actor_folder)\n",
    "    \n",
    "    if os.path.isdir(actor_path):\n",
    "        for filename in os.listdir(actor_path):\n",
    "            if filename.endswith('.wav'):\n",
    "                file_path = os.path.join(actor_path, filename)\n",
    "\n",
    "                # 🎧 Charger l'audio\n",
    "                y, sr = librosa.load(file_path, sr=None)\n",
    "\n",
    "                # 🎯 Extraire l’émotion à partir du nom du fichier\n",
    "                emotion_code = filename.split('-')[2]\n",
    "                emotion = emotion_map.get(emotion_code)\n",
    "\n",
    "                # 🎵 Extraire les MFCCs (on garde la dimension temporelle)\n",
    "                mfcc = librosa.feature.mfcc(y=y, sr=sr, n_mfcc=13)\n",
    "                features.append(mfcc.T)  # Transposer pour garder la dimension temporelle\n",
    "                labels.append(emotion)\n",
    "\n",
    "# 🔍 Normaliser les MFCCs\n",
    "scaler = StandardScaler()\n",
    "features = [scaler.fit_transform(mfcc) for mfcc in features]\n",
    "\n",
    "# 🎯 Convertir les labels en index numériques\n",
    "emotion_index = {emotion: idx for idx, emotion in enumerate(emotion_map.values())}\n",
    "labels = np.array([emotion_index[label] for label in labels])\n",
    "\n",
    "# 🧪 Padding des séquences pour uniformiser la longueur\n",
    "max_length = max([len(mfcc) for mfcc in features])\n",
    "features = [np.pad(mfcc, ((0, max_length - len(mfcc)), (0, 0)), mode='constant') for mfcc in features]\n",
    "\n",
    "# 🧠 Convertir les features en tableau numpy\n",
    "X = np.array(features)\n",
    "y = tf.keras.utils.to_categorical(labels, num_classes=len(emotion_map))\n",
    "\n",
    "# 🔁 Diviser les données en ensemble d'entraînement et de test\n",
    "X_train, X_test, y_train, y_test = train_test_split(X, y, test_size=0.2, random_state=42)\n",
    "\n",
    "# 🏋️‍♂️ Calculer les poids des classes pour gérer l'imbalancement\n",
    "class_weights = class_weight.compute_class_weight('balanced', classes=np.unique(labels), y=labels)\n",
    "\n",
    "# 📐 Définir le modèle CNN\n",
    "model = models.Sequential([\n",
    "    layers.InputLayer(input_shape=(X_train.shape[1], X_train.shape[2])),  # Séquence temporelle de MFCCs\n",
    "    layers.Conv1D(64, 5, activation='relu', padding='same'),\n",
    "    layers.MaxPooling1D(pool_size=2),\n",
    "    layers.Conv1D(128, 3, activation='relu', padding='same'),\n",
    "    layers.MaxPooling1D(pool_size=2),\n",
    "    layers.Conv1D(256, 3, activation='relu', padding='same'),\n",
    "    layers.MaxPooling1D(pool_size=2),\n",
    "    layers.Flatten(),\n",
    "    layers.Dense(128, activation='relu'),\n",
    "    layers.Dropout(0.5),\n",
    "    layers.Dense(len(emotion_map), activation='softmax')\n",
    "])\n",
    "\n",
    "# 📊 Compiler le modèle\n",
    "model.compile(optimizer='adam', loss='categorical_crossentropy', metrics=['accuracy'])\n",
    "\n",
    "# 🏃‍♂️ Entraîner le modèle\n",
    "history = model.fit(X_train, y_train, epochs=15, batch_size=32, validation_data=(X_test, y_test), class_weight={i: weight for i, weight in enumerate(class_weights)})\n",
    "\n",
    "# Sauvegarder le modèle\n",
    "model.save('model_audio.h5')\n",
    "\n",
    "# ✅ Évaluation du modèle\n",
    "test_loss, test_accuracy = model.evaluate(X_test, y_test)\n",
    "print(f\"✅ Précision sur les données de test : {test_accuracy:.4f}\")\n"
   ]
  }
 ],
 "metadata": {
  "kernelspec": {
   "display_name": "Python 3",
   "language": "python",
   "name": "python3"
  },
  "language_info": {
   "codemirror_mode": {
    "name": "ipython",
    "version": 3
   },
   "file_extension": ".py",
   "mimetype": "text/x-python",
   "name": "python",
   "nbconvert_exporter": "python",
   "pygments_lexer": "ipython3",
   "version": "3.9.13"
  }
 },
 "nbformat": 4,
 "nbformat_minor": 2
}
